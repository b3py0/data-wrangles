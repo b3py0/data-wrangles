{
 "cells": [
  {
   "cell_type": "code",
   "execution_count": 1,
   "metadata": {},
   "outputs": [],
   "source": [
    "import numpy as np\n",
    "import pandas as pd\n",
    "import seaborn as sns\n",
    "import matplotlib.pyplot as plt\n",
    "\n",
    "%matplotlib inline"
   ]
  },
  {
   "cell_type": "markdown",
   "metadata": {},
   "source": [
    "# Columns"
   ]
  },
  {
   "cell_type": "code",
   "execution_count": 2,
   "metadata": {
    "collapsed": true
   },
   "outputs": [
    {
     "ename": "NameError",
     "evalue": "name 'df' is not defined",
     "output_type": "error",
     "traceback": [
      "\u001b[1;31m---------------------------------------------------------------------------\u001b[0m",
      "\u001b[1;31mNameError\u001b[0m                                 Traceback (most recent call last)",
      "\u001b[1;32m<ipython-input-2-0131635d5f5a>\u001b[0m in \u001b[0;36m<module>\u001b[1;34m()\u001b[0m\n\u001b[0;32m      1\u001b[0m \u001b[1;31m## Inspect columns\u001b[0m\u001b[1;33m\u001b[0m\u001b[1;33m\u001b[0m\u001b[0m\n\u001b[1;32m----> 2\u001b[1;33m \u001b[0mdf\u001b[0m\u001b[1;33m.\u001b[0m\u001b[0mcolumns\u001b[0m\u001b[1;33m\u001b[0m\u001b[0m\n\u001b[0m\u001b[0;32m      3\u001b[0m \u001b[0mdf\u001b[0m\u001b[1;33m.\u001b[0m\u001b[0mcolumns\u001b[0m\u001b[1;33m[\u001b[0m\u001b[1;36m0\u001b[0m\u001b[1;33m:\u001b[0m\u001b[1;36m9\u001b[0m\u001b[1;33m]\u001b[0m \u001b[1;31m#and every other splicing combination\u001b[0m\u001b[1;33m\u001b[0m\u001b[0m\n\u001b[0;32m      4\u001b[0m \u001b[1;33m\u001b[0m\u001b[0m\n\u001b[0;32m      5\u001b[0m \u001b[1;31m## Rename columns\u001b[0m\u001b[1;33m\u001b[0m\u001b[1;33m\u001b[0m\u001b[0m\n",
      "\u001b[1;31mNameError\u001b[0m: name 'df' is not defined"
     ]
    }
   ],
   "source": [
    "## Inspect columns\n",
    "df.columns\n",
    "df.columns[0:9] #and every other splicing combination\n",
    "\n",
    "## Rename columns\n",
    "df['BASE'] = df['depth']\n",
    "\n",
    "## Drop columns by name\n",
    "df = df.drop(['depth', 'type','analyst','label','site'], axis=1) #need to assign to the df\n",
    "\n",
    "## Check names of columns by slice\n",
    "list(df.columns.values[0:9])\n",
    "\n",
    "## Make a list of all the uniques values in a column:\n",
    "list(df['column name'].unique())\n",
    "\n",
    "## Get a value count of unique elements in a column\n",
    "info['SITE'].value_counts()"
   ]
  },
  {
   "cell_type": "code",
   "execution_count": null,
   "metadata": {},
   "outputs": [],
   "source": [
    "## Add new columns in order with a function\n",
    "new_columns = ['AGE',\n",
    "               'STAGE',\n",
    "               'FORMATION',\n",
    "               'ZONE']\n",
    "\n",
    "def column_updates(new_columns,df):\n",
    "    df_columns=df.columns\n",
    "    new_columns=new_columns\n",
    "    \n",
    "    #Split off the original columns as a list\n",
    "    other_columns = list(df_columns.values) \n",
    "    \n",
    "    #Add the columns to the original df\n",
    "    new_df = pd.concat([df,pd.DataFrame(columns=list(new_columns))], sort=False)\n",
    "    \n",
    "    #order the columns\n",
    "    new_col_order = new_columns + other_columns\n",
    "    set(new_df.columns)==set(new_col_order)\n",
    "    x =new_df[new_col_order]\n",
    "    return x\n",
    "\n",
    "## Calling the function\n",
    "df = column_updates(new_columns, df)\n",
    "df.head()"
   ]
  },
  {
   "cell_type": "code",
   "execution_count": null,
   "metadata": {},
   "outputs": [],
   "source": [
    "## Moving the last column to the front\n"
   ]
  },
  {
   "cell_type": "code",
   "execution_count": null,
   "metadata": {},
   "outputs": [],
   "source": [
    "## Inserting the same value to an empty column\n",
    "\n",
    "df.loc[df['SITE'] == 'F4','ANALYST'] = 'BioStrat' \n",
    "#This inserts 'Biostrat' into the column 'ANALYST' where the value 'F4' appears in the 'SITE' column\n",
    "\n",
    "## Updating a value based on column conditions and the index\n",
    "df.loc[(df['SITE'] == 'F1') & (df['BASE'].between(3270,3270)),'ZONE'] = 'Unassigned'"
   ]
  },
  {
   "cell_type": "code",
   "execution_count": null,
   "metadata": {},
   "outputs": [],
   "source": [
    "##Deleting trailing and leading white space in a column (but preserving space in between words):\n",
    "## Turn into a list and strip white space\n",
    "prop_names = list(df.col1)\n",
    "\n",
    "## Remove trailing and leading white spaces:\n",
    "\n",
    "def normalize_space(s):\n",
    "    \"\"\"Return s stripped of leading/trailing whitespace\n",
    "    and with internal runs of whitespace replaced by a single SPACE\"\"\"\n",
    "    return ' '.join(s.split())\n",
    "\n",
    "replacement = [normalize_space(i) for i in prop_names] "
   ]
  },
  {
   "cell_type": "markdown",
   "metadata": {},
   "source": [
    "# Subsetting information"
   ]
  },
  {
   "cell_type": "code",
   "execution_count": null,
   "metadata": {},
   "outputs": [],
   "source": [
    "## Split off columns by slice\n",
    "info = volve.iloc[:,0:17] #needs iloc\n",
    "\n",
    "## Split off by two conditions in 2 different columns\n",
    "def subset(name_item):\n",
    "    name_item = df.loc[(df['column1'] == name_item)] #name is the name of the item to class you are subsetting\n",
    "    name_item = name_item.sort_values(by=['column2'], ascending=False)\n",
    "    return name_item\n",
    "\n",
    "## call function\n",
    "f15a = subset('F15A')\n"
   ]
  },
  {
   "cell_type": "markdown",
   "metadata": {},
   "source": [
    "# Groupby"
   ]
  },
  {
   "cell_type": "code",
   "execution_count": null,
   "metadata": {},
   "outputs": [],
   "source": [
    "## Groupby to get the difference between max and min values by class\n",
    "result = df.groupby(['col1','col2', 'col3'])['col4'].agg(['max','min'])\n",
    "result['col5'] = result['max']-result['min']\n",
    "print(result[['col5']]))\n",
    "\n",
    "\n",
    "## How many observations?\n",
    "df.groupby(['col1', 'col2']).size()"
   ]
  }
 ],
 "metadata": {
  "hide_input": false,
  "kernelspec": {
   "display_name": "Python 3",
   "language": "python",
   "name": "python3"
  },
  "language_info": {
   "codemirror_mode": {
    "name": "ipython",
    "version": 3
   },
   "file_extension": ".py",
   "mimetype": "text/x-python",
   "name": "python",
   "nbconvert_exporter": "python",
   "pygments_lexer": "ipython3",
   "version": "3.7.3"
  },
  "toc": {
   "base_numbering": 1,
   "nav_menu": {},
   "number_sections": true,
   "sideBar": true,
   "skip_h1_title": false,
   "title_cell": "Table of Contents",
   "title_sidebar": "Contents",
   "toc_cell": false,
   "toc_position": {
    "height": "calc(100% - 180px)",
    "left": "10px",
    "top": "150px",
    "width": "256px"
   },
   "toc_section_display": true,
   "toc_window_display": true
  },
  "varInspector": {
   "cols": {
    "lenName": 16,
    "lenType": 16,
    "lenVar": 40
   },
   "kernels_config": {
    "python": {
     "delete_cmd_postfix": "",
     "delete_cmd_prefix": "del ",
     "library": "var_list.py",
     "varRefreshCmd": "print(var_dic_list())"
    },
    "r": {
     "delete_cmd_postfix": ") ",
     "delete_cmd_prefix": "rm(",
     "library": "var_list.r",
     "varRefreshCmd": "cat(var_dic_list()) "
    }
   },
   "types_to_exclude": [
    "module",
    "function",
    "builtin_function_or_method",
    "instance",
    "_Feature"
   ],
   "window_display": false
  }
 },
 "nbformat": 4,
 "nbformat_minor": 2
}
