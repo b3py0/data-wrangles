{
 "cells": [
  {
   "cell_type": "markdown",
   "metadata": {
    "collapsed": false
   },
   "source": [
    "# Dictionary shortcuts and information\n",
    "From Real Python tutorial\n",
    "\n",
    "Can be:\n",
    "- Nested, mutatable and dynamic\n",
    "- Accessed by keys, not slices (so unlike a list)"
   ]
  },
  {
   "cell_type": "code",
   "execution_count": 0,
   "metadata": {
    "collapsed": false
   },
   "outputs": [
   ],
   "source": [
    "## Definings a dictionary\n",
    "\n",
    "d = {\n",
    "    <key>:<value>,\n",
    "    <key>:<value>\n",
    "}\n",
    "\n",
    "# OR with a list of tuples:\n",
    "\n",
    "d = dict([\n",
    "        (<key>:<value>),\n",
    "        (<key>:<value>))\n",
    "    ])"
   ]
  },
  {
   "cell_type": "code",
   "execution_count": 1,
   "metadata": {
    "collapsed": false
   },
   "outputs": [
    {
     "name": "stdout",
     "output_type": "stream",
     "text": [
      "{'cat': 10, 'dog': 3, 'hamster': 1}\n"
     ]
    }
   ],
   "source": [
    "animals = {'cat':10,\n",
    "          'dog': 3,\n",
    "          'hamster':1}\n",
    "\n",
    "animals"
   ]
  },
  {
   "cell_type": "code",
   "execution_count": 2,
   "metadata": {
    "collapsed": false
   },
   "outputs": [
    {
     "data": {
      "text/plain": [
       "10"
      ]
     },
     "execution_count": 2,
     "metadata": {
     },
     "output_type": "execute_result"
    }
   ],
   "source": [
    "## Accessing elements\n",
    "\n",
    "animals['cat']"
   ]
  },
  {
   "cell_type": "code",
   "execution_count": 3,
   "metadata": {
    "collapsed": false
   },
   "outputs": [
    {
     "data": {
      "text/plain": [
       "{'cat': 10, 'dog': 3, 'hamster': 1, 'parrot': 18}"
      ]
     },
     "execution_count": 3,
     "metadata": {
     },
     "output_type": "execute_result"
    }
   ],
   "source": [
    "## Add to a dictionary\n",
    "\n",
    "animals['parrot'] = 18\n",
    "animals"
   ]
  },
  {
   "cell_type": "code",
   "execution_count": 4,
   "metadata": {
    "collapsed": false
   },
   "outputs": [
    {
     "data": {
      "text/plain": [
       "{'cat': 11, 'dog': 3, 'hamster': 1, 'parrot': 18}"
      ]
     },
     "execution_count": 4,
     "metadata": {
     },
     "output_type": "execute_result"
    }
   ],
   "source": [
    "## Update an entry (just reassign the value of the key)\n",
    "\n",
    "animals['cat'] = 11\n",
    "animals"
   ]
  },
  {
   "cell_type": "code",
   "execution_count": 5,
   "metadata": {
    "collapsed": false
   },
   "outputs": [
    {
     "data": {
      "text/plain": [
       "{'cat': 11, 'hamster': 1, 'parrot': 18}"
      ]
     },
     "execution_count": 5,
     "metadata": {
     },
     "output_type": "execute_result"
    }
   ],
   "source": [
    "## Delete and entry\n",
    "\n",
    "del animals['dog']\n",
    "animals\n",
    "\n",
    "# potentially more pythonic is to use pop()"
   ]
  },
  {
   "cell_type": "code",
   "execution_count": 0,
   "metadata": {
    "collapsed": false
   },
   "outputs": [
   ],
   "source": [
    "## Incrementally adding to a dictionary - start with an empty dictionary:\n",
    "d = {}"
   ]
  },
  {
   "cell_type": "code",
   "execution_count": 6,
   "metadata": {
    "collapsed": false
   },
   "outputs": [
    {
     "data": {
      "text/plain": [
       "['Ralph', 'Betty', 'Joey']"
      ]
     },
     "execution_count": 6,
     "metadata": {
     },
     "output_type": "execute_result"
    }
   ],
   "source": [
    "person = {'fname': 'Joe',\n",
    "          'lname': 'Fonebone',\n",
    "          'age': 51,\n",
    "          'spouse': 'Edna',\n",
    "          'children': ['Ralph', 'Betty', 'Joey'],\n",
    "          'pets': {'dog': 'Fido', 'cat': 'Sox'}}\n",
    "\n",
    "## NOTE from above: keys and values don't need to be of the same type.\n",
    "## RESTRICTIONS: \n",
    "    # 1) can only have unique keys so you can't have duplicates.\n",
    "    # 2) Keys must be immutable (e.g. int, float, str, boolean, tuple)\n",
    "    # 3) There are conversly no restrictions on values.\n",
    "person['fname']\n",
    "# Joe\n",
    "person['age']\n",
    "# 51\n",
    "person['children']\n",
    "# ['Ralph', 'Betty', 'Joey']"
   ]
  },
  {
   "cell_type": "code",
   "execution_count": 8,
   "metadata": {
    "collapsed": false
   },
   "outputs": [
    {
     "data": {
      "text/plain": [
       "'Sox'"
      ]
     },
     "execution_count": 8,
     "metadata": {
     },
     "output_type": "execute_result"
    }
   ],
   "source": [
    "## Retrieve values in asublist or subdictionary:\n",
    "# requires an extra key\n",
    "\n",
    "person['children'][-1] #sublist\n",
    "# Joey\n",
    "\n",
    "person['pets']['cat'] #subdictionary"
   ]
  },
  {
   "cell_type": "code",
   "execution_count": 11,
   "metadata": {
    "collapsed": false
   },
   "outputs": [
    {
     "data": {
      "text/plain": [
       "True"
      ]
     },
     "execution_count": 11,
     "metadata": {
     },
     "output_type": "execute_result"
    }
   ],
   "source": [
    "## Using boolean queries\n",
    "\n",
    "'horse' in animals\n",
    "# False\n",
    "\n",
    "'cat' in animals\n",
    "# True\n",
    "\n",
    "'parrot' not in animals\n",
    "#False\n",
    "\n",
    "'parrot' in animals and 'cat' in animals"
   ]
  },
  {
   "cell_type": "code",
   "execution_count": 0,
   "metadata": {
    "collapsed": false
   },
   "outputs": [
   ],
   "source": [
    "## Built-in dictionary methods:\n",
    "\n",
    "d.clear() #clears entire contents of dictionary\n",
    "d.get(<key>) #fetches value pair of a given key\n",
    "d.get('horse', -1) #if hey not found, default will be returned of -1\n",
    "d.items() #returns key-value pairs as list of tuples\n",
    "d.items()[0][1] #returns first item value (and not the key). [1][0] returns the key\n",
    "d.keys() # returns a list of keys\n",
    "d.values() #returns a list of values\n",
    "##Items, keys, and values actually returna view object so need refactoring if you wish to reuse them as variables\n",
    "d.pop(<key>) #also returns the associated value\n",
    "d.popitem() #removes tha last key@value pair and returns as a tuple\n",
    "d.update() # merges dictionaries or a list tuples of key, value pairs. Will either add if new, or update if already present."
   ]
  },
  {
   "cell_type": "code",
   "execution_count": 20,
   "metadata": {
    "collapsed": false
   },
   "outputs": [
    {
     "data": {
      "text/plain": [
       "{'a': 10, 'b': 200, 'c': 30, 'd': 400}"
      ]
     },
     "execution_count": 20,
     "metadata": {
     },
     "output_type": "execute_result"
    }
   ],
   "source": [
    "# Update example\n",
    "d1 = {'a': 10, 'b': 20, 'c': 30}\n",
    "d2 = {'b': 200, 'd': 400} #b gets updated\n",
    "\n",
    "d1.update(d2)\n",
    "d1"
   ]
  },
  {
   "cell_type": "code",
   "execution_count": 21,
   "metadata": {
    "collapsed": false
   },
   "outputs": [
    {
     "data": {
      "text/plain": [
       "{'a': 10, 'b': 200, 'c': 30, 'd': 400, 'e': 200, 'f': 400}"
      ]
     },
     "execution_count": 21,
     "metadata": {
     },
     "output_type": "execute_result"
    }
   ],
   "source": [
    "d1.update([('e', 200), ('f', 400)])\n",
    "d1"
   ]
  },
  {
   "cell_type": "code",
   "execution_count": 22,
   "metadata": {
    "collapsed": false
   },
   "outputs": [
    {
     "data": {
      "text/plain": [
       "{'a': 10, 'b': 100, 'c': 30, 'd': 300, 'e': 200, 'f': 400}"
      ]
     },
     "execution_count": 22,
     "metadata": {
     },
     "output_type": "execute_result"
    }
   ],
   "source": [
    "d1.update(b=100, d=300) #can specify values to update\n",
    "d1"
   ]
  }
 ],
 "metadata": {
  "kernelspec": {
   "display_name": "Python 3 (system-wide)",
   "language": "python",
   "metadata": {
    "cocalc": {
     "description": "Python 3 programming language",
     "priority": 100,
     "url": "https://www.python.org/"
    }
   },
   "name": "python3",
   "resource_dir": "/ext/jupyter/kernels/python3"
  },
  "language_info": {
   "codemirror_mode": {
    "name": "ipython",
    "version": 3
   },
   "file_extension": ".py",
   "mimetype": "text/x-python",
   "name": "python",
   "nbconvert_exporter": "python",
   "pygments_lexer": "ipython3",
   "version": "3.8.5"
  }
 },
 "nbformat": 4,
 "nbformat_minor": 4
}