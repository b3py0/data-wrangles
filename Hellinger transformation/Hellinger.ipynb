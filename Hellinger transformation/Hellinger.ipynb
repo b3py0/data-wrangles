{
 "cells": [
  {
   "cell_type": "markdown",
   "metadata": {},
   "source": [
    "## Hellinger transformation \n",
    "\n",
    "This is recommended for count data as a means of standardization<sup>1,2</sup> and scaling allowing data to be passed to PCA and other metrics not otherwise acceptable for count data where observations within rows are not independent. Not perfect but preferred to other column based scaling techniques since the structure of the row is important for count data<sup>3</sup>. Essentially the square-root transformation by row total downweights abundant species and allows better representation of the tail represented by less dominant species. Results are identical to Decostand implementation in Vegan (R package).\n",
    "\n",
    "**Requirements**\n",
    "A dataframe consisting of raw count data with different observations arranged by row and the labels for the different species as columns. Assumes dataframe has some prior processing to remove N/A and other non-numerical flags within the body of the dataframe.\n",
    "\n",
    "\n",
    "<sup>1</sup>Legendre, P. & Legendre, L. (2012) * Numerical Ecology (3rd edition)* Developments in Environmental Modelling, vol. **24** pp. 1-990. Elsevier, Amsterdam.  \n",
    "<sup>2</sup>Legendre, P. & Gallagher, E. D. (2001) Ecologically meaningful transformations for ordination of species data. *Oecologia*, **129**:271-280.  \n",
    "<sup>3</sup>Borcard, D., Gillet, F., & Legendre, P. (2011) *Numerical Ecology with R*. pp.1-306, Springer, Dortrecht."
   ]
  },
  {
   "cell_type": "code",
   "execution_count": 1,
   "metadata": {},
   "outputs": [],
   "source": [
    "import numpy as np\n",
    "import pandas as pd"
   ]
  },
  {
   "cell_type": "code",
   "execution_count": 2,
   "metadata": {},
   "outputs": [
    {
     "data": {
      "text/html": [
       "<div>\n",
       "<style scoped>\n",
       "    .dataframe tbody tr th:only-of-type {\n",
       "        vertical-align: middle;\n",
       "    }\n",
       "\n",
       "    .dataframe tbody tr th {\n",
       "        vertical-align: top;\n",
       "    }\n",
       "\n",
       "    .dataframe thead th {\n",
       "        text-align: right;\n",
       "    }\n",
       "</style>\n",
       "<table border=\"1\" class=\"dataframe\">\n",
       "  <thead>\n",
       "    <tr style=\"text-align: right;\">\n",
       "      <th></th>\n",
       "      <th>Sample</th>\n",
       "      <th>taxa_1</th>\n",
       "      <th>Taxa_2</th>\n",
       "      <th>Taxa_3</th>\n",
       "    </tr>\n",
       "  </thead>\n",
       "  <tbody>\n",
       "    <tr>\n",
       "      <th>0</th>\n",
       "      <td>LM 10</td>\n",
       "      <td>10</td>\n",
       "      <td>5</td>\n",
       "      <td>1</td>\n",
       "    </tr>\n",
       "    <tr>\n",
       "      <th>1</th>\n",
       "      <td>LM 20</td>\n",
       "      <td>18</td>\n",
       "      <td>3</td>\n",
       "      <td>3</td>\n",
       "    </tr>\n",
       "    <tr>\n",
       "      <th>2</th>\n",
       "      <td>LM 30</td>\n",
       "      <td>10</td>\n",
       "      <td>5</td>\n",
       "      <td>0</td>\n",
       "    </tr>\n",
       "  </tbody>\n",
       "</table>\n",
       "</div>"
      ],
      "text/plain": [
       "  Sample  taxa_1  Taxa_2  Taxa_3\n",
       "0  LM 10      10       5       1\n",
       "1  LM 20      18       3       3\n",
       "2  LM 30      10       5       0"
      ]
     },
     "execution_count": 2,
     "metadata": {},
     "output_type": "execute_result"
    }
   ],
   "source": [
    "df = pd.read_csv('taxa_matrix.csv')\n",
    "df.head()"
   ]
  },
  {
   "cell_type": "code",
   "execution_count": 3,
   "metadata": {},
   "outputs": [],
   "source": [
    "## Split the taxa labels off from the df\n",
    "taxa = df.iloc[:,0:1] #these are id_rows\n",
    "data = df.iloc[:,1:] #these are the data"
   ]
  },
  {
   "cell_type": "code",
   "execution_count": 4,
   "metadata": {},
   "outputs": [],
   "source": [
    "## HELLINGER transformation:\n",
    "'''\n",
    "to call this function, move workbook to working folder, import transformation as tm\n",
    "and then call with tm.hellinger(df kwargs= {df_type('full' or None), ids = row labels}).\n",
    "'''\n",
    "\n",
    "def hellinger(df, **kwargs):\n",
    "    import numpy as np\n",
    "    import pandas as pd\n",
    "    '''\n",
    "    ids --> this is the first column (or columns) with row lables (e.g. sample numbers, depth etc.)\n",
    "    and is a separate df.\n",
    "    \n",
    "    df --> these columns are the counts (with the column headers) of the cleaned data matrix containing just\n",
    "    raw count frequencies and zeros (strings need removing first).\n",
    "    \n",
    "    df_type --> if left blnk, this just returns the matrix, if 'full' returns df with row labels.\n",
    "    '''\n",
    "    ids = kwargs.get('ids', None)\n",
    "    df_type = kwargs.get('df_type', None)\n",
    "    \n",
    "    if df_type == 'full':\n",
    "        tm = df.apply(lambda x: np.sqrt(x / df.sum(axis=1)))\n",
    "        tm_df = pd.concat([ids, tm], axis=1)\n",
    "        return tm_df\n",
    "    else:\n",
    "        tm = df.apply(lambda x: np.sqrt(x / df.sum(axis=1)))\n",
    "        return tm\n",
    "    "
   ]
  },
  {
   "cell_type": "code",
   "execution_count": 6,
   "metadata": {},
   "outputs": [
    {
     "data": {
      "text/html": [
       "<div>\n",
       "<style scoped>\n",
       "    .dataframe tbody tr th:only-of-type {\n",
       "        vertical-align: middle;\n",
       "    }\n",
       "\n",
       "    .dataframe tbody tr th {\n",
       "        vertical-align: top;\n",
       "    }\n",
       "\n",
       "    .dataframe thead th {\n",
       "        text-align: right;\n",
       "    }\n",
       "</style>\n",
       "<table border=\"1\" class=\"dataframe\">\n",
       "  <thead>\n",
       "    <tr style=\"text-align: right;\">\n",
       "      <th></th>\n",
       "      <th>Sample</th>\n",
       "      <th>taxa_1</th>\n",
       "      <th>Taxa_2</th>\n",
       "      <th>Taxa_3</th>\n",
       "    </tr>\n",
       "  </thead>\n",
       "  <tbody>\n",
       "    <tr>\n",
       "      <th>0</th>\n",
       "      <td>LM 10</td>\n",
       "      <td>0.790569</td>\n",
       "      <td>0.559017</td>\n",
       "      <td>0.250000</td>\n",
       "    </tr>\n",
       "    <tr>\n",
       "      <th>1</th>\n",
       "      <td>LM 20</td>\n",
       "      <td>0.866025</td>\n",
       "      <td>0.353553</td>\n",
       "      <td>0.353553</td>\n",
       "    </tr>\n",
       "    <tr>\n",
       "      <th>2</th>\n",
       "      <td>LM 30</td>\n",
       "      <td>0.816497</td>\n",
       "      <td>0.577350</td>\n",
       "      <td>0.000000</td>\n",
       "    </tr>\n",
       "  </tbody>\n",
       "</table>\n",
       "</div>"
      ],
      "text/plain": [
       "  Sample    taxa_1    Taxa_2    Taxa_3\n",
       "0  LM 10  0.790569  0.559017  0.250000\n",
       "1  LM 20  0.866025  0.353553  0.353553\n",
       "2  LM 30  0.816497  0.577350  0.000000"
      ]
     },
     "execution_count": 6,
     "metadata": {},
     "output_type": "execute_result"
    }
   ],
   "source": [
    "## Returns the whole dataframe again with row labels \n",
    "\n",
    "new = hellinger(data, df_type='full', ids = taxa)\n",
    "new.head()"
   ]
  },
  {
   "cell_type": "code",
   "execution_count": 7,
   "metadata": {},
   "outputs": [
    {
     "data": {
      "text/html": [
       "<div>\n",
       "<style scoped>\n",
       "    .dataframe tbody tr th:only-of-type {\n",
       "        vertical-align: middle;\n",
       "    }\n",
       "\n",
       "    .dataframe tbody tr th {\n",
       "        vertical-align: top;\n",
       "    }\n",
       "\n",
       "    .dataframe thead th {\n",
       "        text-align: right;\n",
       "    }\n",
       "</style>\n",
       "<table border=\"1\" class=\"dataframe\">\n",
       "  <thead>\n",
       "    <tr style=\"text-align: right;\">\n",
       "      <th></th>\n",
       "      <th>taxa_1</th>\n",
       "      <th>Taxa_2</th>\n",
       "      <th>Taxa_3</th>\n",
       "    </tr>\n",
       "  </thead>\n",
       "  <tbody>\n",
       "    <tr>\n",
       "      <th>0</th>\n",
       "      <td>0.790569</td>\n",
       "      <td>0.559017</td>\n",
       "      <td>0.250000</td>\n",
       "    </tr>\n",
       "    <tr>\n",
       "      <th>1</th>\n",
       "      <td>0.866025</td>\n",
       "      <td>0.353553</td>\n",
       "      <td>0.353553</td>\n",
       "    </tr>\n",
       "    <tr>\n",
       "      <th>2</th>\n",
       "      <td>0.816497</td>\n",
       "      <td>0.577350</td>\n",
       "      <td>0.000000</td>\n",
       "    </tr>\n",
       "  </tbody>\n",
       "</table>\n",
       "</div>"
      ],
      "text/plain": [
       "     taxa_1    Taxa_2    Taxa_3\n",
       "0  0.790569  0.559017  0.250000\n",
       "1  0.866025  0.353553  0.353553\n",
       "2  0.816497  0.577350  0.000000"
      ]
     },
     "execution_count": 7,
     "metadata": {},
     "output_type": "execute_result"
    }
   ],
   "source": [
    "## Returns just the transformed matrix\n",
    "\n",
    "new_matrix = hellinger(data)\n",
    "new_matrix.head()"
   ]
  },
  {
   "cell_type": "markdown",
   "metadata": {},
   "source": [
    "## To import function from the transformation.py file\n",
    "\n",
    "Place this file in the working directory of the jpyter notebook."
   ]
  },
  {
   "cell_type": "code",
   "execution_count": 9,
   "metadata": {},
   "outputs": [],
   "source": [
    "import transformation as tm"
   ]
  },
  {
   "cell_type": "code",
   "execution_count": 11,
   "metadata": {},
   "outputs": [
    {
     "data": {
      "text/html": [
       "<div>\n",
       "<style scoped>\n",
       "    .dataframe tbody tr th:only-of-type {\n",
       "        vertical-align: middle;\n",
       "    }\n",
       "\n",
       "    .dataframe tbody tr th {\n",
       "        vertical-align: top;\n",
       "    }\n",
       "\n",
       "    .dataframe thead th {\n",
       "        text-align: right;\n",
       "    }\n",
       "</style>\n",
       "<table border=\"1\" class=\"dataframe\">\n",
       "  <thead>\n",
       "    <tr style=\"text-align: right;\">\n",
       "      <th></th>\n",
       "      <th>Sample</th>\n",
       "      <th>taxa_1</th>\n",
       "      <th>Taxa_2</th>\n",
       "      <th>Taxa_3</th>\n",
       "    </tr>\n",
       "  </thead>\n",
       "  <tbody>\n",
       "    <tr>\n",
       "      <th>0</th>\n",
       "      <td>LM 10</td>\n",
       "      <td>0.790569</td>\n",
       "      <td>0.559017</td>\n",
       "      <td>0.250000</td>\n",
       "    </tr>\n",
       "    <tr>\n",
       "      <th>1</th>\n",
       "      <td>LM 20</td>\n",
       "      <td>0.866025</td>\n",
       "      <td>0.353553</td>\n",
       "      <td>0.353553</td>\n",
       "    </tr>\n",
       "    <tr>\n",
       "      <th>2</th>\n",
       "      <td>LM 30</td>\n",
       "      <td>0.816497</td>\n",
       "      <td>0.577350</td>\n",
       "      <td>0.000000</td>\n",
       "    </tr>\n",
       "  </tbody>\n",
       "</table>\n",
       "</div>"
      ],
      "text/plain": [
       "  Sample    taxa_1    Taxa_2    Taxa_3\n",
       "0  LM 10  0.790569  0.559017  0.250000\n",
       "1  LM 20  0.866025  0.353553  0.353553\n",
       "2  LM 30  0.816497  0.577350  0.000000"
      ]
     },
     "execution_count": 11,
     "metadata": {},
     "output_type": "execute_result"
    }
   ],
   "source": [
    "new_full_imported = tm.hellinger(data, df_type='full', ids=taxa)\n",
    "new_full_imported.head()"
   ]
  }
 ],
 "metadata": {
  "kernelspec": {
   "display_name": "Python 3",
   "language": "python",
   "name": "python3"
  },
  "language_info": {
   "codemirror_mode": {
    "name": "ipython",
    "version": 3
   },
   "file_extension": ".py",
   "mimetype": "text/x-python",
   "name": "python",
   "nbconvert_exporter": "python",
   "pygments_lexer": "ipython3",
   "version": "3.7.6"
  }
 },
 "nbformat": 4,
 "nbformat_minor": 4
}
