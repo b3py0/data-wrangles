{
 "cells": [
  {
   "cell_type": "markdown",
   "metadata": {},
   "source": [
    "## Hellinger transformation \n",
    "\n",
    "This is recommended for count data as a means of standardization<sup>1,2</sup> and scaling allowing data to be passed to PCA and other metrics not otherwise acceptable for count data where observations within rows are not independent. Not perfect but preferred to other column based scaling techniques since the structure of the row is important for count data<sup>3</sup>. Essentially the square-root transformation by row total downweights abundant species and allows better representation of the tail represented by less dominant species. Results are identical to Decostand implementation in Vegan (R package).\n",
    "\n",
    "**Requirements**\n",
    "A dataframe consisting of raw count data with different observations arranged by row and the labels for the different species as columns. Assumes dataframe has some prior processing to remove N/A and other non-numerical flags within the body of the dataframe.\n",
    "\n",
    "\n",
    "<sup>1</sup>Legendre, P. & Legendre, L. (2012) * Numerical Ecology (3rd edition)* Developments in Environmental Modelling, vol. **24** pp. 1-990. Elsevier, Amsterdam.  \n",
    "<sup>2</sup>Legendre, P. & Gallagher, E. D. (2001) Ecologically meaningful transformations for ordination of species data. *Oecologia*, **129**:271-280.  \n",
    "<sup>3</sup>Borcard, D., Gillet, F., & Legendre, P. (2011) *Numerical Ecology with R*. pp.1-306, Springer, Dortrecht."
   ]
  },
  {
   "cell_type": "code",
   "execution_count": 1,
   "metadata": {},
   "outputs": [],
   "source": [
    "import numpy as np\n",
    "import pandas as pd"
   ]
  },
  {
   "cell_type": "code",
   "execution_count": 84,
   "metadata": {},
   "outputs": [
    {
     "data": {
      "text/html": [
       "<div>\n",
       "<style scoped>\n",
       "    .dataframe tbody tr th:only-of-type {\n",
       "        vertical-align: middle;\n",
       "    }\n",
       "\n",
       "    .dataframe tbody tr th {\n",
       "        vertical-align: top;\n",
       "    }\n",
       "\n",
       "    .dataframe thead th {\n",
       "        text-align: right;\n",
       "    }\n",
       "</style>\n",
       "<table border=\"1\" class=\"dataframe\">\n",
       "  <thead>\n",
       "    <tr style=\"text-align: right;\">\n",
       "      <th></th>\n",
       "      <th>Depth</th>\n",
       "      <th>taxa_1</th>\n",
       "      <th>Taxa_2</th>\n",
       "      <th>Taxa_3</th>\n",
       "    </tr>\n",
       "  </thead>\n",
       "  <tbody>\n",
       "    <tr>\n",
       "      <th>0</th>\n",
       "      <td>Species_1</td>\n",
       "      <td>10</td>\n",
       "      <td>5</td>\n",
       "      <td>1</td>\n",
       "    </tr>\n",
       "    <tr>\n",
       "      <th>1</th>\n",
       "      <td>Species_2</td>\n",
       "      <td>18</td>\n",
       "      <td>3</td>\n",
       "      <td>3</td>\n",
       "    </tr>\n",
       "    <tr>\n",
       "      <th>2</th>\n",
       "      <td>Species_3</td>\n",
       "      <td>10</td>\n",
       "      <td>5</td>\n",
       "      <td>0</td>\n",
       "    </tr>\n",
       "  </tbody>\n",
       "</table>\n",
       "</div>"
      ],
      "text/plain": [
       "       Depth  taxa_1  Taxa_2  Taxa_3\n",
       "0  Species_1      10       5       1\n",
       "1  Species_2      18       3       3\n",
       "2  Species_3      10       5       0"
      ]
     },
     "execution_count": 84,
     "metadata": {},
     "output_type": "execute_result"
    }
   ],
   "source": [
    "df = pd.read_csv('C:/../taxa_matrix.csv')\n",
    "df.head()"
   ]
  },
  {
   "cell_type": "code",
   "execution_count": 65,
   "metadata": {},
   "outputs": [],
   "source": [
    "## Split the taxa labels off from the df\n",
    "taxa = df.iloc[:,0:1] #these are id_rows\n",
    "data = df.iloc[:,1:] #these are the data"
   ]
  },
  {
   "cell_type": "code",
   "execution_count": 85,
   "metadata": {},
   "outputs": [
    {
     "data": {
      "text/html": [
       "<div>\n",
       "<style scoped>\n",
       "    .dataframe tbody tr th:only-of-type {\n",
       "        vertical-align: middle;\n",
       "    }\n",
       "\n",
       "    .dataframe tbody tr th {\n",
       "        vertical-align: top;\n",
       "    }\n",
       "\n",
       "    .dataframe thead th {\n",
       "        text-align: right;\n",
       "    }\n",
       "</style>\n",
       "<table border=\"1\" class=\"dataframe\">\n",
       "  <thead>\n",
       "    <tr style=\"text-align: right;\">\n",
       "      <th></th>\n",
       "      <th>taxa_1</th>\n",
       "      <th>Taxa_2</th>\n",
       "      <th>Taxa_3</th>\n",
       "    </tr>\n",
       "  </thead>\n",
       "  <tbody>\n",
       "    <tr>\n",
       "      <th>0</th>\n",
       "      <td>10</td>\n",
       "      <td>5</td>\n",
       "      <td>1</td>\n",
       "    </tr>\n",
       "    <tr>\n",
       "      <th>1</th>\n",
       "      <td>18</td>\n",
       "      <td>3</td>\n",
       "      <td>3</td>\n",
       "    </tr>\n",
       "    <tr>\n",
       "      <th>2</th>\n",
       "      <td>10</td>\n",
       "      <td>5</td>\n",
       "      <td>0</td>\n",
       "    </tr>\n",
       "  </tbody>\n",
       "</table>\n",
       "</div>"
      ],
      "text/plain": [
       "   taxa_1  Taxa_2  Taxa_3\n",
       "0      10       5       1\n",
       "1      18       3       3\n",
       "2      10       5       0"
      ]
     },
     "execution_count": 85,
     "metadata": {},
     "output_type": "execute_result"
    }
   ],
   "source": [
    "data.head()"
   ]
  },
  {
   "cell_type": "code",
   "execution_count": 79,
   "metadata": {},
   "outputs": [],
   "source": [
    "def hellinger_transformation(id_rows, df):\n",
    "    ''' id_rows --> this is the first column or columns and is a separate df.\n",
    "        df --> these columns are the counts (with the column headers) of the data matrix.'''\n",
    "    margin_total = df.sum(axis=1)\n",
    "    transform = df.apply(lambda x: np.sqrt(x / margin_total))\n",
    "    new_df = pd.concat([id_rows, transform], axis=1) \n",
    "    return new_df\n"
   ]
  }
 ],
 "metadata": {
  "kernelspec": {
   "display_name": "Python 3",
   "language": "python",
   "name": "python3"
  },
  "language_info": {
   "codemirror_mode": {
    "name": "ipython",
    "version": 3
   },
   "file_extension": ".py",
   "mimetype": "text/x-python",
   "name": "python",
   "nbconvert_exporter": "python",
   "pygments_lexer": "ipython3",
   "version": "3.7.7"
  }
 },
 "nbformat": 4,
 "nbformat_minor": 4
}
